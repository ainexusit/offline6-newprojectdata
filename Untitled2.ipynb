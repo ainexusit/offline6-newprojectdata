{
 "cells": [
  {
   "cell_type": "code",
   "execution_count": 1,
   "id": "a5afe0aa-c47d-4f27-8e4b-bde99ef4ff4b",
   "metadata": {},
   "outputs": [
    {
     "data": {
      "text/plain": [
       "'people_100_records.csv'"
      ]
     },
     "execution_count": 1,
     "metadata": {},
     "output_type": "execute_result"
    }
   ],
   "source": [
    "import pandas as pd\n",
    "import random\n",
    "from faker import Faker\n",
    "\n",
    "# Initialize Faker\n",
    "fake = Faker()\n",
    "\n",
    "# Generate 100 records\n",
    "data = []\n",
    "for i in range(1, 101):\n",
    "    name = fake.name()\n",
    "    city = fake.city()\n",
    "    data.append({\"id\": i, \"name\": name, \"city\": city})\n",
    "\n",
    "# Create DataFrame\n",
    "df = pd.DataFrame(data)\n",
    "\n",
    "# Save to CSV\n",
    "csv_filename = \"people_100_records.csv\"\n",
    "df.to_csv(csv_filename, index=False)\n",
    "\n",
    "csv_filename\n"
   ]
  },
  {
   "cell_type": "code",
   "execution_count": null,
   "id": "ef53e093-9fa1-4be4-8e7b-33d4497a4a98",
   "metadata": {},
   "outputs": [],
   "source": []
  }
 ],
 "metadata": {
  "kernelspec": {
   "display_name": "Python 3 (ipykernel)",
   "language": "python",
   "name": "python3"
  },
  "language_info": {
   "codemirror_mode": {
    "name": "ipython",
    "version": 3
   },
   "file_extension": ".py",
   "mimetype": "text/x-python",
   "name": "python",
   "nbconvert_exporter": "python",
   "pygments_lexer": "ipython3",
   "version": "3.12.7"
  }
 },
 "nbformat": 4,
 "nbformat_minor": 5
}
