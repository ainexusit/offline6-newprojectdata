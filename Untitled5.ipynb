{
 "cells": [
  {
   "cell_type": "code",
   "execution_count": 1,
   "id": "c3f41099-4de3-498b-8102-ced7386d4049",
   "metadata": {},
   "outputs": [],
   "source": [
    "import pandas as pd"
   ]
  },
  {
   "cell_type": "code",
   "execution_count": 2,
   "id": "e6d48257-c193-4b7b-9651-f1274f2bc314",
   "metadata": {},
   "outputs": [],
   "source": [
    "df = pd.read_csv(\"people_100_records.csv\")"
   ]
  },
  {
   "cell_type": "code",
   "execution_count": 13,
   "id": "c8e345c9-1108-4d16-bd2c-e09f6856e411",
   "metadata": {},
   "outputs": [
    {
     "name": "stdout",
     "output_type": "stream",
     "text": [
      "insert into emp values(1,'Jill Morris','Austinbury')\n",
      "insert into emp values(2,'Curtis Trujillo','Kimstad')\n",
      "insert into emp values(3,'Eric Sanchez','Fieldshaven')\n",
      "insert into emp values(4,'Kenneth Medina','Kaitlynton')\n",
      "insert into emp values(5,'Lynn Lawrence','North Tamara')\n",
      "insert into emp values(6,'Leslie Tran','Ambermouth')\n",
      "insert into emp values(7,'Justin Key','Ericport')\n",
      "insert into emp values(8,'Melissa Salas','Katieborough')\n",
      "insert into emp values(9,'Virginia Burns','Sandytown')\n",
      "insert into emp values(10,'Gabrielle Morgan','West Francistown')\n",
      "insert into emp values(11,'Laura Hill','East Austinton')\n",
      "insert into emp values(12,'Barbara Sparks','South Nicholas')\n",
      "insert into emp values(13,'Sean Richard','Medinaville')\n",
      "insert into emp values(14,'Justin Greene','Gomezborough')\n",
      "insert into emp values(15,'Tina Cruz','West Rachelhaven')\n",
      "insert into emp values(16,'Samuel White','South Jasonberg')\n",
      "insert into emp values(17,'Alex Chambers','West Kevin')\n",
      "insert into emp values(18,'Anthony Jones','Kevinfurt')\n",
      "insert into emp values(19,'Andrew Byrd','Port Makayla')\n",
      "insert into emp values(20,'Lindsey Freeman','Samanthaburgh')\n",
      "insert into emp values(21,'Samuel Rowe','Singhmouth')\n",
      "insert into emp values(22,'Marissa Garcia','New Rachael')\n",
      "insert into emp values(23,'Kevin Sharp','East Stacey')\n",
      "insert into emp values(24,'Mary Weeks','Port Stanley')\n",
      "insert into emp values(25,'Tanya Fritz','Kelleyborough')\n",
      "insert into emp values(26,'Lauren Vargas','North Victoria')\n",
      "insert into emp values(27,'Cynthia Mcclain','West Keith')\n",
      "insert into emp values(28,'Lisa Sanders','Millershire')\n",
      "insert into emp values(29,'Kyle Alvarez','Meganshire')\n",
      "insert into emp values(30,'Sara Harper','South Brian')\n",
      "insert into emp values(31,'Courtney Myers','Grossbury')\n",
      "insert into emp values(32,'Yvonne Stevens','Stonefort')\n",
      "insert into emp values(33,'Shirley Mitchell','Port Dylan')\n",
      "insert into emp values(34,'Joseph Martinez','Rachelview')\n",
      "insert into emp values(35,'Leslie Lynch','Foxshire')\n",
      "insert into emp values(36,'Nicole Meyer','Kleinberg')\n",
      "insert into emp values(37,'Melissa Martinez','Hurleyview')\n",
      "insert into emp values(38,'Jamie Oconnell','North Andreville')\n",
      "insert into emp values(39,'Karen Lopez','Jacksonborough')\n",
      "insert into emp values(40,'Deanna Buchanan','South Patrickville')\n",
      "insert into emp values(41,'Elizabeth Weaver','Snyderside')\n",
      "insert into emp values(42,'Monica Gonzalez','Wilkinsside')\n",
      "insert into emp values(43,'Pamela Smith','South Rebecca')\n",
      "insert into emp values(44,'Derek Garcia','Rachelstad')\n",
      "insert into emp values(45,'Kimberly Gregory','Port Alan')\n",
      "insert into emp values(46,'Jeffrey Duncan DDS','Nicholasfort')\n",
      "insert into emp values(47,'Kathy Shepherd','New Donnaville')\n",
      "insert into emp values(48,'Kevin Robinson','New Ryan')\n",
      "insert into emp values(49,'Susan Bentley','Williamston')\n",
      "insert into emp values(50,'Dwayne Cummings','North John')\n",
      "insert into emp values(51,'Susan Herman','Alexandraberg')\n",
      "insert into emp values(52,'April Davidson','Perezland')\n",
      "insert into emp values(53,'Samuel Coffey','Josephstad')\n",
      "insert into emp values(54,'Kelly Roy','Josephfort')\n",
      "insert into emp values(55,'James Thomas','East Reginaside')\n",
      "insert into emp values(56,'Beth Oneal','Lake Lorraineland')\n",
      "insert into emp values(57,'Andrew Koch','Crystaltown')\n",
      "insert into emp values(58,'Paul Henson DDS','Robertborough')\n",
      "insert into emp values(59,'Russell Ferrell','Alyssaside')\n",
      "insert into emp values(60,'John Edwards','South Thomasmouth')\n",
      "insert into emp values(61,'Walter Martinez','Meganmouth')\n",
      "insert into emp values(62,'Victor Hanson','New Amanda')\n",
      "insert into emp values(63,'Mason Powell','New Jillburgh')\n",
      "insert into emp values(64,'Heather Cox','Wiseborough')\n",
      "insert into emp values(65,'Phillip Knox','Morrisborough')\n",
      "insert into emp values(66,'Zachary Marshall','East Jamie')\n",
      "insert into emp values(67,'Carly Kim','Oconnellstad')\n",
      "insert into emp values(68,'Ronald Duran','Ambertown')\n",
      "insert into emp values(69,'Elizabeth Ward','Samanthaberg')\n",
      "insert into emp values(70,'Wanda Lee','South Rita')\n",
      "insert into emp values(71,'Henry Lopez','Zavalafort')\n",
      "insert into emp values(72,'Kurt Crawford','Leemouth')\n",
      "insert into emp values(73,'Isaac Sullivan','Bryantburgh')\n",
      "insert into emp values(74,'Larry Garcia','North Brendaport')\n",
      "insert into emp values(75,'Carol Alexander','West Nancyview')\n",
      "insert into emp values(76,'William Gallegos','Gibbsmouth')\n",
      "insert into emp values(77,'Christine Washington','Lake Heatherfurt')\n",
      "insert into emp values(78,'Sara Hernandez','West Micheal')\n",
      "insert into emp values(79,'Maureen Singleton','Lake Jon')\n",
      "insert into emp values(80,'Lynn Clark','Brandistad')\n",
      "insert into emp values(81,'Marcus Fields','Miguelton')\n",
      "insert into emp values(82,'Ian Rodriguez Jr.','Orozcoside')\n",
      "insert into emp values(83,'Blake Joseph','West Craigville')\n",
      "insert into emp values(84,'Joseph Clark','Keithland')\n",
      "insert into emp values(85,'Nicole Lucero','Port Randyville')\n",
      "insert into emp values(86,'Darlene Garcia','Port Tammyshire')\n",
      "insert into emp values(87,'Shannon Arnold','West Brooke')\n",
      "insert into emp values(88,'Kristen Flynn','South Eddiechester')\n",
      "insert into emp values(89,'Glenn Miller','Parkershire')\n",
      "insert into emp values(90,'Natalie Anderson','North Kristinmouth')\n",
      "insert into emp values(91,'Maria Rivera','South Diane')\n",
      "insert into emp values(92,'Marc Kelley','Smithshire')\n",
      "insert into emp values(93,'Lisa Torres','South Terri')\n",
      "insert into emp values(94,'Micheal Townsend','Connerborough')\n",
      "insert into emp values(95,'Michele Blevins','Omarland')\n",
      "insert into emp values(96,'Kristina Andrews','Heatherfurt')\n",
      "insert into emp values(97,'Jeffery Nicholson','New Nicholasmouth')\n",
      "insert into emp values(98,'Steven Taylor','Lake Zachary')\n",
      "insert into emp values(99,'Matthew Bowman','North Staceychester')\n",
      "insert into emp values(100,'Matthew Mathis','North Angelabury')\n"
     ]
    },
    {
     "name": "stderr",
     "output_type": "stream",
     "text": [
      "C:\\Users\\AI NEXUT IT\\AppData\\Local\\Temp\\ipykernel_25408\\3991307868.py:2: FutureWarning: Series.__getitem__ treating keys as positions is deprecated. In a future version, integer keys will always be treated as labels (consistent with DataFrame behavior). To access a value by position, use `ser.iloc[pos]`\n",
      "  q = \"insert into emp values({},'{}','{}')\".format(line[1][0],line[1][1],line[1][2])\n"
     ]
    }
   ],
   "source": [
    "for line in df.iterrows():\n",
    "    q = \"insert into emp values({},'{}','{}')\".format(line[1][0],line[1][1],line[1][2])\n",
    "    print(q)"
   ]
  },
  {
   "cell_type": "code",
   "execution_count": 14,
   "id": "29bbb958-9a01-40eb-b5e0-d110efe06fec",
   "metadata": {},
   "outputs": [],
   "source": [
    "import uuid"
   ]
  },
  {
   "cell_type": "code",
   "execution_count": 20,
   "id": "6560a66d-2837-4fb2-9bab-c9488ab0a2a3",
   "metadata": {},
   "outputs": [
    {
     "data": {
      "text/plain": [
       "'7b27212f332f'"
      ]
     },
     "execution_count": 20,
     "metadata": {},
     "output_type": "execute_result"
    }
   ],
   "source": [
    "str(uuid.uuid4()).split(\"-\")[-1]"
   ]
  },
  {
   "cell_type": "code",
   "execution_count": null,
   "id": "33afd68b-6f35-4951-aabf-6fa478730538",
   "metadata": {},
   "outputs": [],
   "source": []
  }
 ],
 "metadata": {
  "kernelspec": {
   "display_name": "Python 3 (ipykernel)",
   "language": "python",
   "name": "python3"
  },
  "language_info": {
   "codemirror_mode": {
    "name": "ipython",
    "version": 3
   },
   "file_extension": ".py",
   "mimetype": "text/x-python",
   "name": "python",
   "nbconvert_exporter": "python",
   "pygments_lexer": "ipython3",
   "version": "3.12.7"
  }
 },
 "nbformat": 4,
 "nbformat_minor": 5
}
